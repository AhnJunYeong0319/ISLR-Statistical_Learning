{
 "cells": [
  {
   "cell_type": "markdown",
   "metadata": {},
   "source": [
    "# Organization of This Book(*ISLR*)\n",
    "---"
   ]
  },
  {
   "cell_type": "markdown",
   "metadata": {},
   "source": [
    "Chapter 2 introduces the basic terminology and concepts behind statistical\n",
    "learning. This chapter also presents the K-nearest neighbor classifier, a\n",
    "very simple method that works surprisingly well on many problems. Chapters\n",
    "3 and 4 cover classical linear methods for regression and classification.\n",
    "In particular, Chapter 3 reviews linear regression, the fundamental starting\n",
    "point for all regression methods. In Chapter 4 we discuss two of the\n",
    "most important classical classification methods, logistic regression and linear\n",
    "discriminant analysis.  \n",
    "A central problem in all statistical learning situations involves choosing\n",
    "the best method for a given application. Hence, in Chapter 5 we introduce\n",
    "cross-validation and the bootstrap, which can be used to estimate the\n",
    "accuracy of a number of different methods in order to choose the best one.  \n",
    "Much of the recent research in statistical learning has concentrated on\n",
    "non-linear methods. However, linear methods often have advantages over\n",
    "their non-linear competitors in terms of interpretability and sometimes also\n",
    "accuracy. Hence, in Chapter 6 we consider a host of linear methods, both\n",
    "classical and more modern, which offer potential improvements over standard\n",
    "linear regression. These include stepwise selection, ridge regression,\n",
    "principal components regression, partial least squares, and the lasso.  \n",
    "The remaining chapters move into the world of non-linear statistical\n",
    "learning. We first introduce in Chapter 7 a number of non-linear methods\n",
    "that work well for problems with a single input variable. We then show how\n",
    "these methods can be used to fit non-linear additive models for which there\n",
    "is more than one input.   In Chapter 8, we investigate tree-based methods,\n",
    "including bagging, boosting, and random forests. Support vector machines,\n",
    "a set of approaches for performing both linear and non-linear classification,1.   Introduction 13\n",
    "are discussed in Chapter 9. Finally, in Chapter 10, we consider a setting\n",
    "in which we have input variables but no output variable. In particular, we\n",
    "present principal components analysis, K-means clustering, and hierarchical\n",
    "clustering.  \n",
    "At the end of each chapter, we present one or more R lab sections in\n",
    "which we systematically work through applications of the various methods\n",
    "discussed in that chapter. These labs demonstrate the strengths and\n",
    "weaknesses of the various approaches, and also provide a useful reference\n",
    "for the syntax required to implement the various methods. The reader may\n",
    "choose to work through the labs at his or her own pace, or the labs may\n",
    "be the focus of group sessions as part of a classroom environment. Within\n",
    "each R lab, we present the results that we obtained when we performed\n",
    "the lab at the time of writing this book.   However, new versions of R are\n",
    "continuously released, and over time, the packages called in the labs will be\n",
    "updated. Therefore, in the future, it is possible that the results shown in\n",
    "the lab sections may no longer correspond precisely to the results obtained\n",
    "by the reader who performs the labs. As necessary, we will post updates to\n",
    "the labs on the book website.  \n",
    "We use the symbol to denote sections or exercises that contain more\n",
    "challenging concepts. These can be easily skipped by readers who do not\n",
    "wish to delve as deeply into the material, or who lack the mathematical\n",
    "background."
   ]
  },
  {
   "cell_type": "markdown",
   "metadata": {},
   "source": [
    "I examine a number of factors that relate to wages for a group of males from the Atlantic region of the United States. In particular, I wish to understand the association between an employee’s age and education, as well as the calendar year, on his wage. "
   ]
  },
  {
   "cell_type": "markdown",
   "metadata": {},
   "source": [
    "## FIGURE 1.1\n",
    "---"
   ]
  },
  {
   "cell_type": "code",
   "execution_count": 55,
   "metadata": {},
   "outputs": [],
   "source": [
    "library(ISLR)\n",
    "library(plyr)"
   ]
  },
  {
   "cell_type": "code",
   "execution_count": 65,
   "metadata": {},
   "outputs": [
    {
     "name": "stderr",
     "output_type": "stream",
     "text": [
      "The following `from` values were not present in `x`: 1. < HS Grad\n",
      "The following `from` values were not present in `x`: 2. HS Grad\n",
      "The following `from` values were not present in `x`: 3. Some College\n",
      "The following `from` values were not present in `x`: 4. College Grad\n",
      "The following `from` values were not present in `x`: 5. Advanced Degree\n"
     ]
    },
    {
     "data": {
      "image/png": "[encoded data removed]",
      "text/plain": [
       "plot without title"
      ]
     },
     "metadata": {},
     "output_type": "display_data"
    }
   ],
   "source": [
    "par(mfrow=c(2,2))\n",
    "\n",
    "## Figure 1.1 - 1\n",
    "plot(Wage$age, Wage$wage, xlab = \"Age\", ylab=\"Wage\")\n",
    "lm.fit <- lm(wage ~ age, data = Wage)\n",
    "abline(lm.fit, col=\"blue\", lwd=3, lty=1)\n",
    "\n",
    "## Figure 1.1 - 2\n",
    "plot(Wage$year, Wage$wage, xlab = \"Year\", ylab=\"Wage\")\n",
    "lm.fit <- lm(wage ~ year, data = Wage)\n",
    "abline(lm.fit, col=\"blue\", lwd=3, lty=1)\n",
    "\n",
    "## Figure 1.1 - 3\n",
    "df <- data.frame(Wage)\n",
    "\n",
    "df$education <- revalue(df$education, c(\"1. < HS Grad\"=\"1\")) # using revalue() function in plyr\n",
    "df$education <- revalue(df$education, c(\"2. HS Grad\"=\"2\"))\n",
    "df$education <- revalue(df$education, c(\"3. Some College\"=\"3\"))\n",
    "df$education <- revalue(df$education, c(\"4. College Grad\"=\"4\"))\n",
    "df$education <- revalue(df$education, c(\"5. Advanced Degree\"=\"5\"))\n",
    "\n",
    "boxplot(wage ~ education, data = Wage, col=rainbow(5), ylim=c(20,350), xlab=\"Education Level\", ylab=\"Wage\")"
   ]
  },
  {
   "cell_type": "markdown",
   "metadata": {},
   "source": [
    "***FIGURE 1.1 - 1***: A scatter plot between 'age' and 'wage' of Wage data, with the linear regression line  \n",
    "***FIGURE 1.1 - 2***: A scatter plot between 'year' and 'wage' of Wage data with the linear regression line  \n",
    "***FIGURE 1.1 - 3***: A box plot between 'education' and 'wage' of Wage data"
   ]
  },
  {
   "cell_type": "markdown",
   "metadata": {},
   "source": [
    "Now I gotta understand the association between today's direction on Percentage Change in S & P. "
   ]
  },
  {
   "cell_type": "markdown",
   "metadata": {},
   "source": [
    "## FIGURE 1.2\n",
    "---"
   ]
  },
  {
   "cell_type": "code",
   "execution_count": 84,
   "metadata": {
    "scrolled": false
   },
   "outputs": [
    {
     "data": {
      "image/png": "[encoded data removed]",
      "text/plain": [
       "Plot with title \"Three Days Previous\""
      ]
     },
     "metadata": {},
     "output_type": "display_data"
    }
   ],
   "source": [
    "par(mfrow=c(2,2))\n",
    "\n",
    "## Figure 1.2 - 1\n",
    "boxplot(Lag1 ~ Direction, data = Smarket, ylim=c(-5,6), col=c(\"skyblue\", \"brown\"), xlab=\"Today's Direction\", ylab=\"Percentage Change in S & P\", main = \"Yesterday\")\n",
    "\n",
    "## Figure 1.2 - 2\n",
    "boxplot(Lag2 ~ Direction, data = Smarket, ylim=c(-5,6), col=c(\"skyblue\", \"brown\"), xlab=\"Today's Direction\", ylab=\"Percentage Change in S & P\", main = \"Two Days Previous\")\n",
    "\n",
    "## Figure 1.2 - 3\n",
    "boxplot(Lag3 ~ Direction, data = Smarket, ylim=c(-5,6), col=c(\"skyblue\", \"brown\"), xlab=\"Today's Direction\", ylab=\"Percentage Change in S & P\", main = \"Three Days Previous\")"
   ]
  },
  {
   "cell_type": "markdown",
   "metadata": {},
   "source": [
    "***FIGURE 1.2 - 1***: A box plot between 'direction' and 'Lag1' of Smarket data  \n",
    "***FIGURE 1.2 - 2***: A box plot between 'direction' and 'Lag2' of Smarket data  \n",
    "***FIGURE 1.2 - 3***: A box plot between 'direction' and 'Lag3' of Smarket data"
   ]
  },
  {
   "cell_type": "markdown",
   "metadata": {},
   "source": [
    "---  \n",
    "---  "
   ]
  },
  {
   "cell_type": "markdown",
   "metadata": {},
   "source": [
    "** ***FIGURE 1.3 & 1.4*** are omitted here since I'm not familiar with QDA and PCA yet - actually those two were on my brain, but just escaped me after the course."
   ]
  },
  {
   "cell_type": "markdown",
   "metadata": {},
   "source": [
    "# My Resolution\n",
    "---"
   ]
  },
  {
   "cell_type": "markdown",
   "metadata": {},
   "source": [
    "So far, I was just normal student who has a little talent but also a great laziness as usual. However, I felt I'm really doing SOMETHING for the first time during the second semester of my freshman, when is the most longest period of my life due to very hard works and study. Sadly, I realized that there are too many people who got greater talent than me as I can easily find some of them in KKT open chats despite their young age.  \n",
    "\n",
    "\n",
    " Therefore, I resolve that I'll not haste to go much further than them, but solidify what I've learned so that I do not become completely fool after enlisted. This review is just one of the step for my resolution, which will and should last forever. "
   ]
  },
  {
   "cell_type": "code",
   "execution_count": null,
   "metadata": {},
   "outputs": [],
   "source": []
  }
 ],
 "metadata": {
  "kernelspec": {
   "display_name": "R",
   "language": "R",
   "name": "ir"
  },
  "language_info": {
   "codemirror_mode": "r",
   "file_extension": ".r",
   "mimetype": "text/x-r-source",
   "name": "R",
   "pygments_lexer": "r",
   "version": "3.6.1"
  }
 },
 "nbformat": 4,
 "nbformat_minor": 4
}
